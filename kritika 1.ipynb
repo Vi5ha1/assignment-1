{
 "cells": [
  {
   "cell_type": "code",
   "execution_count": 1,
   "metadata": {},
   "outputs": [],
   "source": [
    "import numpy as np"
   ]
  },
  {
   "cell_type": "code",
   "execution_count": 2,
   "metadata": {},
   "outputs": [],
   "source": [
    "import pandas as pd"
   ]
  },
  {
   "cell_type": "code",
   "execution_count": 3,
   "metadata": {},
   "outputs": [],
   "source": [
    "x = np.array([1,2,3,4,5])\n",
    "y=2*x"
   ]
  },
  {
   "cell_type": "code",
   "execution_count": 4,
   "metadata": {},
   "outputs": [
    {
     "name": "stdout",
     "output_type": "stream",
     "text": [
      "[1 2 3 4 5]\n",
      "[ 2  4  6  8 10]\n"
     ]
    }
   ],
   "source": [
    "print(\"{}\\n{}\".format(x,y))"
   ]
  },
  {
   "cell_type": "code",
   "execution_count": 5,
   "metadata": {},
   "outputs": [],
   "source": [
    "x=np.array([[1,2,3],[4,5,6],[7,8,9]])"
   ]
  },
  {
   "cell_type": "code",
   "execution_count": 6,
   "metadata": {},
   "outputs": [
    {
     "data": {
      "text/plain": [
       "0"
      ]
     },
     "execution_count": 6,
     "metadata": {},
     "output_type": "execute_result"
    }
   ],
   "source": [
    "6//8"
   ]
  },
  {
   "cell_type": "code",
   "execution_count": 7,
   "metadata": {},
   "outputs": [
    {
     "data": {
      "text/plain": [
       "0"
      ]
     },
     "execution_count": 7,
     "metadata": {},
     "output_type": "execute_result"
    }
   ],
   "source": [
    "6//998989\n"
   ]
  },
  {
   "cell_type": "code",
   "execution_count": 8,
   "metadata": {},
   "outputs": [
    {
     "data": {
      "text/plain": [
       "151516"
      ]
     },
     "execution_count": 8,
     "metadata": {},
     "output_type": "execute_result"
    }
   ],
   "source": [
    "909098//6\n"
   ]
  },
  {
   "cell_type": "code",
   "execution_count": 9,
   "metadata": {},
   "outputs": [
    {
     "data": {
      "text/plain": [
       "6"
      ]
     },
     "execution_count": 9,
     "metadata": {},
     "output_type": "execute_result"
    }
   ],
   "source": [
    "12//2\n"
   ]
  },
  {
   "cell_type": "code",
   "execution_count": 10,
   "metadata": {},
   "outputs": [
    {
     "data": {
      "text/plain": [
       "6.0"
      ]
     },
     "execution_count": 10,
     "metadata": {},
     "output_type": "execute_result"
    }
   ],
   "source": [
    "12/2"
   ]
  },
  {
   "cell_type": "code",
   "execution_count": 11,
   "metadata": {},
   "outputs": [
    {
     "data": {
      "text/plain": [
       "72"
      ]
     },
     "execution_count": 11,
     "metadata": {},
     "output_type": "execute_result"
    }
   ],
   "source": [
    "144//2"
   ]
  },
  {
   "cell_type": "code",
   "execution_count": 12,
   "metadata": {},
   "outputs": [
    {
     "data": {
      "text/plain": [
       "72.0"
      ]
     },
     "execution_count": 12,
     "metadata": {},
     "output_type": "execute_result"
    }
   ],
   "source": [
    "144/2"
   ]
  },
  {
   "cell_type": "code",
   "execution_count": 13,
   "metadata": {},
   "outputs": [
    {
     "data": {
      "text/plain": [
       "0.013888888888888888"
      ]
     },
     "execution_count": 13,
     "metadata": {},
     "output_type": "execute_result"
    }
   ],
   "source": [
    "2/144"
   ]
  },
  {
   "cell_type": "code",
   "execution_count": 14,
   "metadata": {},
   "outputs": [
    {
     "data": {
      "text/plain": [
       "0"
      ]
     },
     "execution_count": 14,
     "metadata": {},
     "output_type": "execute_result"
    }
   ],
   "source": [
    "2//144"
   ]
  },
  {
   "cell_type": "code",
   "execution_count": 15,
   "metadata": {},
   "outputs": [
    {
     "data": {
      "text/plain": [
       "7"
      ]
     },
     "execution_count": 15,
     "metadata": {},
     "output_type": "execute_result"
    }
   ],
   "source": [
    "tuple1=('a','b','c','d','e','f','g','h',1,2,3,4,5,6,7,8,9,10)\n",
    "tuple1[-4]"
   ]
  },
  {
   "cell_type": "code",
   "execution_count": 16,
   "metadata": {},
   "outputs": [
    {
     "name": "stdout",
     "output_type": "stream",
     "text": [
      "['astro', 1, 2, 3, 'cosmo', '1213']\n"
     ]
    }
   ],
   "source": [
    "my_list=['astro',1,2,3,'cosmo']\n",
    "my_list.append('1213')\n",
    "print(my_list)"
   ]
  },
  {
   "cell_type": "code",
   "execution_count": 17,
   "metadata": {},
   "outputs": [
    {
     "name": "stdout",
     "output_type": "stream",
     "text": [
      "Krittika\n",
      "['Krittika: ', ' Astronomy Club of IITB']\n"
     ]
    }
   ],
   "source": [
    "my_string = \"Krittika: The Astronomy Club of IITB\"\n",
    "print(my_string[:8])\n",
    "print(my_string.split('The')) #Try putting in another character or a string and see how the output changes"
   ]
  },
  {
   "cell_type": "code",
   "execution_count": 18,
   "metadata": {},
   "outputs": [],
   "source": [
    "string_with_spaces = \"   Why are there spaces here? \""
   ]
  },
  {
   "cell_type": "code",
   "execution_count": 19,
   "metadata": {},
   "outputs": [
    {
     "name": "stdout",
     "output_type": "stream",
     "text": [
      "['Why', 'are', 'there', 'spaces', 'here?']\n"
     ]
    }
   ],
   "source": [
    "list_of_words = string_with_spaces.split()\n",
    "print(list_of_words)"
   ]
  },
  {
   "cell_type": "code",
   "execution_count": 20,
   "metadata": {},
   "outputs": [
    {
     "data": {
      "text/plain": [
       "'Why are there spaces here?'"
      ]
     },
     "execution_count": 20,
     "metadata": {},
     "output_type": "execute_result"
    }
   ],
   "source": [
    "string_without_spaces = ' '.join(list_of_words) # what happens if you use '&' instead of ' '?\n",
    "string_without_spaces"
   ]
  },
  {
   "cell_type": "code",
   "execution_count": 21,
   "metadata": {},
   "outputs": [
    {
     "data": {
      "text/plain": [
       "'Why are there spaces here?'"
      ]
     },
     "execution_count": 21,
     "metadata": {},
     "output_type": "execute_result"
    }
   ],
   "source": [
    "string_with_spaces.strip() "
   ]
  },
  {
   "cell_type": "code",
   "execution_count": 22,
   "metadata": {},
   "outputs": [],
   "source": [
    "my_dictionary = {'Phobos':'Mars', 'Ganymede':'Jupiter', 'Titan':'Saturn', 'Titania':'Uranus', 'Triton':'Neptune'}"
   ]
  },
  {
   "cell_type": "code",
   "execution_count": 23,
   "metadata": {
    "scrolled": true
   },
   "outputs": [
    {
     "name": "stdout",
     "output_type": "stream",
     "text": [
      "The largest moon of Mars is Phobos\n"
     ]
    }
   ],
   "source": [
    "\n",
    "moon = 'Phobos'\n",
    "print(f'The largest moon of {my_dictionary[moon]} is {moon}')"
   ]
  },
  {
   "cell_type": "code",
   "execution_count": 24,
   "metadata": {},
   "outputs": [],
   "source": [
    "with open('C:\\\\Users\\\\Vishal\\\\Downloads\\\\Moons_and_planets.csv', 'r') as f:\n",
    "    a = f.read().split('\\n')"
   ]
  },
  {
   "cell_type": "code",
   "execution_count": 25,
   "metadata": {},
   "outputs": [
    {
     "name": "stdout",
     "output_type": "stream",
     "text": [
      "['# Name of Moon, Name of Planet, Diameter (km)', 'Moon,Earth,1737.1', 'Phobos,Mars,11.1', 'Deimos,Mars,6.2', 'Io,Jupiter,1818.1']\n"
     ]
    }
   ],
   "source": [
    "print(a[:5])"
   ]
  },
  {
   "cell_type": "code",
   "execution_count": 26,
   "metadata": {},
   "outputs": [],
   "source": [
    "data_moons = []\n",
    "for b in a:\n",
    "    data_moons.append(b.split(','))"
   ]
  },
  {
   "cell_type": "code",
   "execution_count": 27,
   "metadata": {
    "scrolled": true
   },
   "outputs": [
    {
     "data": {
      "text/plain": [
       "[['# Name of Moon', ' Name of Planet', ' Diameter (km)'],\n",
       " ['Moon', 'Earth', '1737.1'],\n",
       " ['Phobos', 'Mars', '11.1'],\n",
       " ['Deimos', 'Mars', '6.2'],\n",
       " ['Io', 'Jupiter', '1818.1']]"
      ]
     },
     "execution_count": 27,
     "metadata": {},
     "output_type": "execute_result"
    }
   ],
   "source": [
    "data_moons[:5]"
   ]
  },
  {
   "cell_type": "code",
   "execution_count": 28,
   "metadata": {
    "scrolled": true
   },
   "outputs": [
    {
     "data": {
      "text/html": [
       "<div>\n",
       "<style scoped>\n",
       "    .dataframe tbody tr th:only-of-type {\n",
       "        vertical-align: middle;\n",
       "    }\n",
       "\n",
       "    .dataframe tbody tr th {\n",
       "        vertical-align: top;\n",
       "    }\n",
       "\n",
       "    .dataframe thead th {\n",
       "        text-align: right;\n",
       "    }\n",
       "</style>\n",
       "<table border=\"1\" class=\"dataframe\">\n",
       "  <thead>\n",
       "    <tr style=\"text-align: right;\">\n",
       "      <th></th>\n",
       "      <th># Name of Moon</th>\n",
       "      <th>Name of Planet</th>\n",
       "      <th>Diameter (km)</th>\n",
       "    </tr>\n",
       "  </thead>\n",
       "  <tbody>\n",
       "    <tr>\n",
       "      <th>0</th>\n",
       "      <td>Moon</td>\n",
       "      <td>Earth</td>\n",
       "      <td>1737.1</td>\n",
       "    </tr>\n",
       "    <tr>\n",
       "      <th>1</th>\n",
       "      <td>Phobos</td>\n",
       "      <td>Mars</td>\n",
       "      <td>11.1</td>\n",
       "    </tr>\n",
       "    <tr>\n",
       "      <th>2</th>\n",
       "      <td>Deimos</td>\n",
       "      <td>Mars</td>\n",
       "      <td>6.2</td>\n",
       "    </tr>\n",
       "    <tr>\n",
       "      <th>3</th>\n",
       "      <td>Io</td>\n",
       "      <td>Jupiter</td>\n",
       "      <td>1818.1</td>\n",
       "    </tr>\n",
       "    <tr>\n",
       "      <th>4</th>\n",
       "      <td>Europa</td>\n",
       "      <td>Jupiter</td>\n",
       "      <td>1560.7</td>\n",
       "    </tr>\n",
       "    <tr>\n",
       "      <th>...</th>\n",
       "      <td>...</td>\n",
       "      <td>...</td>\n",
       "      <td>...</td>\n",
       "    </tr>\n",
       "    <tr>\n",
       "      <th>205</th>\n",
       "      <td>Charon</td>\n",
       "      <td>Pluto</td>\n",
       "      <td>606.0</td>\n",
       "    </tr>\n",
       "    <tr>\n",
       "      <th>206</th>\n",
       "      <td>Nix</td>\n",
       "      <td>Pluto</td>\n",
       "      <td>23.0</td>\n",
       "    </tr>\n",
       "    <tr>\n",
       "      <th>207</th>\n",
       "      <td>Hydra</td>\n",
       "      <td>Pluto</td>\n",
       "      <td>30.5</td>\n",
       "    </tr>\n",
       "    <tr>\n",
       "      <th>208</th>\n",
       "      <td>Kerberos</td>\n",
       "      <td>Pluto</td>\n",
       "      <td>14.0</td>\n",
       "    </tr>\n",
       "    <tr>\n",
       "      <th>209</th>\n",
       "      <td>Styx</td>\n",
       "      <td>Pluto</td>\n",
       "      <td>10.0</td>\n",
       "    </tr>\n",
       "  </tbody>\n",
       "</table>\n",
       "<p>210 rows × 3 columns</p>\n",
       "</div>"
      ],
      "text/plain": [
       "    # Name of Moon  Name of Planet   Diameter (km)\n",
       "0             Moon           Earth          1737.1\n",
       "1           Phobos            Mars            11.1\n",
       "2           Deimos            Mars             6.2\n",
       "3               Io         Jupiter          1818.1\n",
       "4           Europa         Jupiter          1560.7\n",
       "..             ...             ...             ...\n",
       "205         Charon           Pluto           606.0\n",
       "206            Nix           Pluto            23.0\n",
       "207          Hydra           Pluto            30.5\n",
       "208       Kerberos           Pluto            14.0\n",
       "209           Styx           Pluto            10.0\n",
       "\n",
       "[210 rows x 3 columns]"
      ]
     },
     "execution_count": 28,
     "metadata": {},
     "output_type": "execute_result"
    }
   ],
   "source": [
    "pd.read_csv('C:\\\\Users\\\\Vishal\\\\Downloads\\\\Moons_and_planets.csv')"
   ]
  },
  {
   "cell_type": "code",
   "execution_count": 29,
   "metadata": {},
   "outputs": [],
   "source": [
    "del a[0]"
   ]
  },
  {
   "cell_type": "code",
   "execution_count": 30,
   "metadata": {},
   "outputs": [
    {
     "data": {
      "text/plain": [
       "['Moon,Earth,1737.1',\n",
       " 'Phobos,Mars,11.1',\n",
       " 'Deimos,Mars,6.2',\n",
       " 'Io,Jupiter,1818.1',\n",
       " 'Europa,Jupiter,1560.7']"
      ]
     },
     "execution_count": 30,
     "metadata": {},
     "output_type": "execute_result"
    }
   ],
   "source": [
    "a[:5]"
   ]
  },
  {
   "cell_type": "code",
   "execution_count": 31,
   "metadata": {},
   "outputs": [],
   "source": [
    "mercury,venus,earth,mars,jupiter,saturn,uranus,neptune,pluto=[0,0,0,0,0,0,0,0,0]"
   ]
  },
  {
   "cell_type": "code",
   "execution_count": 32,
   "metadata": {},
   "outputs": [
    {
     "name": "stdout",
     "output_type": "stream",
     "text": [
      "[['Nix', 'Pluto', '23.0'], ['Hydra', 'Pluto', '30.5'], ['Kerberos', 'Pluto', '14.0'], ['Styx', 'Pluto', '10.0'], ['']]\n"
     ]
    }
   ],
   "source": [
    "print(data_moons[-5:])"
   ]
  },
  {
   "cell_type": "code",
   "execution_count": 33,
   "metadata": {},
   "outputs": [],
   "source": [
    "del data_moons[len(data_moons)-1]"
   ]
  },
  {
   "cell_type": "code",
   "execution_count": 34,
   "metadata": {
    "scrolled": false
   },
   "outputs": [
    {
     "data": {
      "text/plain": [
       "[['Charon', 'Pluto', '606.0'],\n",
       " ['Nix', 'Pluto', '23.0'],\n",
       " ['Hydra', 'Pluto', '30.5'],\n",
       " ['Kerberos', 'Pluto', '14.0'],\n",
       " ['Styx', 'Pluto', '10.0']]"
      ]
     },
     "execution_count": 34,
     "metadata": {},
     "output_type": "execute_result"
    }
   ],
   "source": [
    "data_moons[-5:]"
   ]
  },
  {
   "cell_type": "code",
   "execution_count": 35,
   "metadata": {},
   "outputs": [],
   "source": [
    "for i in range(len(data_moons)):\n",
    "    if data_moons[i][1]== 'Mercury':\n",
    "        mercury=mercury+1\n",
    "    elif data_moons[i][1]=='Venus':\n",
    "        venus=venus+1\n",
    "    elif data_moons[i][1] == 'Earth':\n",
    "        earth=earth+1\n",
    "    elif data_moons[i][1]== 'Mars':\n",
    "        mars=mars+1\n",
    "    elif data_moons[i][1]== 'Jupiter':\n",
    "        jupiter=jupiter+1\n",
    "    elif data_moons[i][1]== 'Saturn':\n",
    "        saturn=saturn+1\n",
    "    elif data_moons[i][1]== 'Uranus':\n",
    "        uranus=uranus+1\n",
    "    elif data_moons[i][1]== 'Neptune':\n",
    "        neptune=neptune+1\n",
    "    elif data_moons[i][1]== 'Pluto':\n",
    "        pluto=pluto+1"
   ]
  },
  {
   "cell_type": "code",
   "execution_count": 36,
   "metadata": {},
   "outputs": [
    {
     "name": "stdout",
     "output_type": "stream",
     "text": [
      "0 0 1 2 79 82 27 14 5\n"
     ]
    }
   ],
   "source": [
    "print(mercury,venus,earth,mars,jupiter,saturn,uranus,neptune,pluto)"
   ]
  },
  {
   "cell_type": "code",
   "execution_count": 37,
   "metadata": {
    "scrolled": true
   },
   "outputs": [
    {
     "name": "stdout",
     "output_type": "stream",
     "text": [
      "Jupiter has 79 moons\n"
     ]
    }
   ],
   "source": [
    "print(f\"Jupiter has {jupiter} moons\")"
   ]
  },
  {
   "cell_type": "code",
   "execution_count": 38,
   "metadata": {
    "scrolled": true
   },
   "outputs": [],
   "source": [
    "del data_moons[0]"
   ]
  },
  {
   "cell_type": "code",
   "execution_count": 39,
   "metadata": {},
   "outputs": [
    {
     "data": {
      "text/plain": [
       "[['Kerberos', 'Pluto', '14.0'], ['Styx', 'Pluto', '10.0']]"
      ]
     },
     "execution_count": 39,
     "metadata": {},
     "output_type": "execute_result"
    }
   ],
   "source": [
    "data_moons[-2:]"
   ]
  },
  {
   "cell_type": "code",
   "execution_count": 41,
   "metadata": {},
   "outputs": [],
   "source": [
    "size = []\n",
    "for i in range(len(data_moons)):\n",
    "    size.append(float(data_moons[i][2]))#taking name and size of the moon from the above list\n",
    "    #bubble sort algorithm\n",
    "for i in range(0,len(data_moons)):\n",
    "    for j in range(0,len(data_moons)-1-i):\n",
    "        if size[j]>size[j+1]:#sorting the list by its size\n",
    "            size[j],size[j+1]=size[j+1],size[j]\n",
    "            data_moons[j],data_moons[j+1]=data_moons[j+1],data_moons[j]"
   ]
  },
  {
   "cell_type": "code",
   "execution_count": 42,
   "metadata": {},
   "outputs": [
    {
     "data": {
      "text/plain": [
       "[0.15,\n",
       " 0.33,\n",
       " 0.5,\n",
       " 0.5,\n",
       " 0.5,\n",
       " 0.5,\n",
       " 0.5,\n",
       " 0.5,\n",
       " 0.5,\n",
       " 1.0,\n",
       " 1.0,\n",
       " 1.0,\n",
       " 1.0,\n",
       " 1.0,\n",
       " 1.0,\n",
       " 1.0,\n",
       " 1.0,\n",
       " 1.0,\n",
       " 1.0,\n",
       " 1.0,\n",
       " 1.0,\n",
       " 1.0,\n",
       " 1.0,\n",
       " 1.0,\n",
       " 1.0,\n",
       " 1.0,\n",
       " 1.0,\n",
       " 1.0,\n",
       " 1.0,\n",
       " 1.0,\n",
       " 1.0,\n",
       " 1.0,\n",
       " 1.0,\n",
       " 1.0,\n",
       " 1.0,\n",
       " 1.0,\n",
       " 1.0,\n",
       " 1.0,\n",
       " 1.0,\n",
       " 1.25,\n",
       " 1.5,\n",
       " 1.5,\n",
       " 1.5,\n",
       " 1.5,\n",
       " 1.5,\n",
       " 1.5,\n",
       " 1.6,\n",
       " 1.6,\n",
       " 1.9,\n",
       " 1.9,\n",
       " 2.0,\n",
       " 2.0,\n",
       " 2.0,\n",
       " 2.0,\n",
       " 2.0,\n",
       " 2.0,\n",
       " 2.0,\n",
       " 2.0,\n",
       " 2.0,\n",
       " 2.0,\n",
       " 2.0,\n",
       " 2.0,\n",
       " 2.2,\n",
       " 2.5,\n",
       " 2.5,\n",
       " 2.5,\n",
       " 2.6,\n",
       " 2.6,\n",
       " 2.7,\n",
       " 3.0,\n",
       " 3.0,\n",
       " 3.0,\n",
       " 3.0,\n",
       " 3.0,\n",
       " 3.0,\n",
       " 3.0,\n",
       " 3.0,\n",
       " 3.0,\n",
       " 3.0,\n",
       " 3.0,\n",
       " 3.0,\n",
       " 3.0,\n",
       " 3.0,\n",
       " 3.0,\n",
       " 3.0,\n",
       " 3.0,\n",
       " 3.0,\n",
       " 3.0,\n",
       " 3.0,\n",
       " 3.0,\n",
       " 3.0,\n",
       " 3.0,\n",
       " 3.0,\n",
       " 3.0,\n",
       " 3.4,\n",
       " 3.5,\n",
       " 3.5,\n",
       " 3.5,\n",
       " 3.5,\n",
       " 3.5,\n",
       " 3.5,\n",
       " 3.5,\n",
       " 3.8,\n",
       " 4.0,\n",
       " 4.0,\n",
       " 4.0,\n",
       " 4.0,\n",
       " 4.0,\n",
       " 4.0,\n",
       " 4.0,\n",
       " 4.0,\n",
       " 4.0,\n",
       " 4.0,\n",
       " 4.0,\n",
       " 4.0,\n",
       " 4.0,\n",
       " 4.3,\n",
       " 5.0,\n",
       " 5.5,\n",
       " 6.0,\n",
       " 6.0,\n",
       " 6.0,\n",
       " 6.0,\n",
       " 6.0,\n",
       " 6.0,\n",
       " 6.2,\n",
       " 7.5,\n",
       " 8.0,\n",
       " 8.2,\n",
       " 9.0,\n",
       " 9.0,\n",
       " 9.0,\n",
       " 9.5,\n",
       " 10.0,\n",
       " 10.0,\n",
       " 10.0,\n",
       " 11.0,\n",
       " 11.1,\n",
       " 12.0,\n",
       " 12.8,\n",
       " 14.0,\n",
       " 14.0,\n",
       " 15.0,\n",
       " 15.3,\n",
       " 16.0,\n",
       " 16.0,\n",
       " 17.4,\n",
       " 18.0,\n",
       " 19.0,\n",
       " 20.0,\n",
       " 20.0,\n",
       " 20.1,\n",
       " 21.0,\n",
       " 21.0,\n",
       " 21.4,\n",
       " 21.5,\n",
       " 22.0,\n",
       " 23.0,\n",
       " 23.0,\n",
       " 24.0,\n",
       " 25.0,\n",
       " 25.7,\n",
       " 30.0,\n",
       " 30.0,\n",
       " 30.5,\n",
       " 31.0,\n",
       " 32.0,\n",
       " 33.0,\n",
       " 36.0,\n",
       " 39.8,\n",
       " 40.3,\n",
       " 40.6,\n",
       " 41.0,\n",
       " 43.0,\n",
       " 46.8,\n",
       " 46.8,\n",
       " 49.3,\n",
       " 58.3,\n",
       " 67.0,\n",
       " 67.6,\n",
       " 75.0,\n",
       " 78.5,\n",
       " 81.0,\n",
       " 83.5,\n",
       " 88.0,\n",
       " 90.4,\n",
       " 97.0,\n",
       " 106.6,\n",
       " 138.6,\n",
       " 178.5,\n",
       " 198.2,\n",
       " 210.0,\n",
       " 235.8,\n",
       " 252.3,\n",
       " 536.3,\n",
       " 562.5,\n",
       " 578.9,\n",
       " 584.7,\n",
       " 606.0,\n",
       " 734.5,\n",
       " 761.4,\n",
       " 764.5,\n",
       " 788.9,\n",
       " 1353.4,\n",
       " 1560.7,\n",
       " 1737.1,\n",
       " 1818.1,\n",
       " 2408.4,\n",
       " 2575.5,\n",
       " 2634.1]"
      ]
     },
     "execution_count": 42,
     "metadata": {},
     "output_type": "execute_result"
    }
   ],
   "source": [
    "size"
   ]
  },
  {
   "cell_type": "code",
   "execution_count": 43,
   "metadata": {},
   "outputs": [
    {
     "name": "stdout",
     "output_type": "stream",
     "text": [
      "Moon           Planet  Diameter\n",
      "------------------------------\n",
      "S/2009 S 1     Saturn   0.15\n",
      "Aegaeon        Saturn   0.33\n",
      "S/2010 J 2     Jupiter   0.5\n",
      "S/2011 J 2     Jupiter   0.5\n",
      "Valetudo       Jupiter   0.5\n",
      "S/2017 J 8     Jupiter   0.5\n",
      "S/2011 J 1     Jupiter   0.5\n",
      "S/2003 J 9     Jupiter   0.5\n",
      "S/2003 J 12    Jupiter   0.5\n",
      "Euporie        Jupiter   1.0\n",
      "Orthosie       Jupiter   1.0\n",
      "Sponde         Jupiter   1.0\n",
      "Kale           Jupiter   1.0\n",
      "Pasithee       Jupiter   1.0\n",
      "Mneme          Jupiter   1.0\n",
      "Thelxinoe      Jupiter   1.0\n",
      "Kallichore     Jupiter   1.0\n",
      "Cyllene        Jupiter   1.0\n",
      "Kore           Jupiter   1.0\n",
      "Herse          Jupiter   1.0\n",
      "S/2010 J 1     Jupiter   1.0\n",
      "S/2003 J 18    Jupiter   1.0\n",
      "Philophrosyne  Jupiter   1.0\n",
      "Eupheme        Jupiter   1.0\n",
      "S/2003 J 19    Jupiter   1.0\n",
      "S/2017 J 2     Jupiter   1.0\n",
      "S/2017 J 3     Jupiter   1.0\n",
      "Pandia         Jupiter   1.0\n",
      "S/2017 J 5     Jupiter   1.0\n",
      "S/2017 J 6     Jupiter   1.0\n",
      "S/2017 J 7     Jupiter   1.0\n",
      "S/2017 J 9     Jupiter   1.0\n",
      "Ersa           Jupiter   1.0\n",
      "S/2003 J 2     Jupiter   1.0\n",
      "S/2003 J 4     Jupiter   1.0\n",
      "S/2003 J 10    Jupiter   1.0\n",
      "S/2003 J 16    Jupiter   1.0\n",
      "S/2003 J 23    Jupiter   1.0\n",
      "Anthe          Saturn    1.0\n",
      "Polydeuces     Saturn   1.25\n",
      "Aitne          Jupiter   1.5\n",
      "Eurydome       Jupiter   1.5\n",
      "Euanthe        Jupiter   1.5\n",
      "Hegemone       Jupiter   1.5\n",
      "Arche          Jupiter   1.5\n",
      "Carpo          Jupiter   1.5\n",
      "Erinome        Jupiter   1.6\n",
      "Methone        Saturn    1.6\n",
      "Chaldene       Jupiter   1.9\n",
      "Isonoe         Jupiter   1.9\n",
      "Autonoe        Jupiter   2.0\n",
      "Thyone         Jupiter   2.0\n",
      "Hermippe       Jupiter   2.0\n",
      "Aoede          Jupiter   2.0\n",
      "Helike         Jupiter   2.0\n",
      "Eukelade       Jupiter   2.0\n",
      "Dia            Jupiter   2.0\n",
      "Eirene         Jupiter   2.0\n",
      "S/2017 J 1     Jupiter   2.0\n",
      "Pallene        Saturn    2.0\n",
      "Fenrir         Saturn    2.0\n",
      "S/2004 S 17    Saturn    2.0\n",
      "Harpalyke      Jupiter   2.2\n",
      "Taygete        Jupiter   2.5\n",
      "Farbauti       Saturn    2.5\n",
      "S/2004 S 12    Saturn    2.5\n",
      "Kalyke         Jupiter   2.6\n",
      "Iocaste        Jupiter   2.6\n",
      "Megaclite      Jupiter   2.7\n",
      "S/2016 J 1     Jupiter   3.0\n",
      "Aegir          Saturn    3.0\n",
      "Bebhionn       Saturn    3.0\n",
      "Bergelmir      Saturn    3.0\n",
      "Fornjot        Saturn    3.0\n",
      "Hati           Saturn    3.0\n",
      "Loge           Saturn    3.0\n",
      "Skoll          Saturn    3.0\n",
      "Surtur         Saturn    3.0\n",
      "Jarnsaxa       Saturn    3.0\n",
      "Greip          Saturn    3.0\n",
      "S/2004 S 7     Saturn    3.0\n",
      "S/2004 S 13    Saturn    3.0\n",
      "S/2006 S 1     Saturn    3.0\n",
      "S/2006 S 3     Saturn    3.0\n",
      "S/2007 S 2     Saturn    3.0\n",
      "S/2007 S 3     Saturn    3.0\n",
      "S/2004 S 20    Saturn    3.0\n",
      "S/2004 S 21    Saturn    3.0\n",
      "S/2004 S 22    Saturn    3.0\n",
      "S/2004 S 24    Saturn    3.0\n",
      "S/2004 S 30    Saturn    3.0\n",
      "S/2004 S 34    Saturn    3.0\n",
      "S/2004 S 36    Saturn    3.0\n",
      "S/2004 S 39    Saturn    3.0\n",
      "Praxidike      Jupiter   3.4\n",
      "Suttungr       Saturn    3.5\n",
      "Mundilfari     Saturn    3.5\n",
      "Thrymr         Saturn    3.5\n",
      "Narvi          Saturn    3.5\n",
      "Bestla         Saturn    3.5\n",
      "Kari           Saturn    3.5\n",
      "Tarqeq         Saturn    3.5\n",
      "Daphnis        Saturn    3.8\n",
      "Themisto       Jupiter   4.0\n",
      "Skathi         Saturn    4.0\n",
      "Hyrrokkin      Saturn    4.0\n",
      "S/2004 S 23    Saturn    4.0\n",
      "S/2004 S 25    Saturn    4.0\n",
      "S/2004 S 26    Saturn    4.0\n",
      "S/2004 S 28    Saturn    4.0\n",
      "S/2004 S 29    Saturn    4.0\n",
      "S/2004 S 31    Saturn    4.0\n",
      "S/2004 S 32    Saturn    4.0\n",
      "S/2004 S 33    Saturn    4.0\n",
      "S/2004 S 37    Saturn    4.0\n",
      "S/2004 S 38    Saturn    4.0\n",
      "Callirrhoe     Jupiter   4.3\n",
      "Erriapus       Saturn    5.0\n",
      "Margaret       Uranus    5.5\n",
      "Ijiraq         Saturn    6.0\n",
      "S/2004 S 27    Saturn    6.0\n",
      "S/2004 S 35    Saturn    6.0\n",
      "Francisco      Uranus    6.0\n",
      "Ferdinand      Uranus    6.0\n",
      "Mab            Uranus    6.0\n",
      "Deimos         Mars      6.2\n",
      "Tarvos         Saturn    7.5\n",
      "Kiviuq         Saturn    8.0\n",
      "Adrastea       Jupiter   8.2\n",
      "Ymir           Saturn    9.0\n",
      "Trinculo       Uranus    9.0\n",
      "Cupid          Uranus    9.0\n",
      "Calypso        Saturn    9.5\n",
      "Leda           Jupiter  10.0\n",
      "Stephano       Uranus   10.0\n",
      "Styx           Pluto    10.0\n",
      "Paaliaq        Saturn   11.0\n",
      "Phobos         Mars     11.1\n",
      "Telesto        Saturn   12.0\n",
      "Pan            Saturn   12.8\n",
      "Ananke         Jupiter  14.0\n",
      "Kerberos       Pluto    14.0\n",
      "Perdita        Uranus   15.0\n",
      "Atlas          Saturn   15.3\n",
      "Helene         Saturn   16.0\n",
      "Albiorix       Saturn   16.0\n",
      "Hippocamp      Neptune  17.4\n",
      "Lysithea       Jupiter  18.0\n",
      "Sinope         Jupiter  19.0\n",
      "Siarnaq        Saturn   20.0\n",
      "Psamathe       Neptune  20.0\n",
      "Cordelia       Uranus   20.1\n",
      "Caliban        Uranus   21.0\n",
      "Laomedeia      Neptune  21.0\n",
      "Ophelia        Uranus   21.4\n",
      "Metis          Jupiter  21.5\n",
      "Sao            Neptune  22.0\n",
      "Carme          Jupiter  23.0\n",
      "Nix            Pluto    23.0\n",
      "Setebos        Uranus   24.0\n",
      "Prospero       Uranus   25.0\n",
      "Bianca         Uranus   25.7\n",
      "Pasiphae       Jupiter  30.0\n",
      "Neso           Neptune  30.0\n",
      "Hydra          Pluto    30.5\n",
      "Halimede       Neptune  31.0\n",
      "Desdemona      Uranus   32.0\n",
      "Naiad          Neptune  33.0\n",
      "Rosalind       Uranus   36.0\n",
      "Cressida       Uranus   39.8\n",
      "Belinda        Uranus   40.3\n",
      "Pandora        Saturn   40.6\n",
      "Thalassa       Neptune  41.0\n",
      "Elara          Jupiter  43.0\n",
      "Prometheus     Saturn   46.8\n",
      "Juliet         Uranus   46.8\n",
      "Thebe          Jupiter  49.3\n",
      "Epimetheus     Saturn   58.3\n",
      "Himalia        Jupiter  67.0\n",
      "Portia         Uranus   67.6\n",
      "Despina        Neptune  75.0\n",
      "Sycorax        Uranus   78.5\n",
      "Puck           Uranus   81.0\n",
      "Amalthea       Jupiter  83.5\n",
      "Galatea        Neptune  88.0\n",
      "Janus          Saturn   90.4\n",
      "Larissa        Neptune  97.0\n",
      "Phoebe         Saturn  106.6\n",
      "Hyperion       Saturn  138.6\n",
      "Nereid         Neptune 178.5\n",
      "Mimas          Saturn  198.2\n",
      "Proteus        Neptune 210.0\n",
      "Miranda        Uranus  235.8\n",
      "Enceladus      Saturn  252.3\n",
      "Tethys         Saturn  536.3\n",
      "Dione          Saturn  562.5\n",
      "Ariel          Uranus  578.9\n",
      "Umbriel        Uranus  584.7\n",
      "Charon         Pluto   606.0\n",
      "Iapetus        Saturn  734.5\n",
      "Oberon         Uranus  761.4\n",
      "Rhea           Saturn  764.5\n",
      "Titania        Uranus  788.9\n",
      "Triton         Neptune 1353.4\n",
      "Europa         Jupiter 1560.7\n",
      "Moon           Earth   1737.1\n",
      "Io             Jupiter 1818.1\n",
      "Callisto       Jupiter 2408.4\n",
      "Titan          Saturn  2575.5\n",
      "Ganymede       Jupiter 2634.1\n"
     ]
    }
   ],
   "source": [
    "print(\"{:<15}{:<8}{:>1}\".format(\"Moon\", \"Planet\", \"Diameter\"))#the {:<int} are for giving space\n",
    "print(\"-\"*30)\n",
    "for i in data_moons:\n",
    "    print(f\"{i[0]:<15}{i[1]:<8}{i[2]:>5}\")"
   ]
  },
  {
   "cell_type": "code",
   "execution_count": 49,
   "metadata": {},
   "outputs": [
    {
     "data": {
      "text/plain": [
       "[['S/2009 S 1', 'Saturn', '0.15'],\n",
       " ['Aegaeon', 'Saturn', '0.33'],\n",
       " ['S/2010 J 2', 'Jupiter', '0.5'],\n",
       " ['S/2011 J 2', 'Jupiter', '0.5'],\n",
       " ['Valetudo', 'Jupiter', '0.5'],\n",
       " ['S/2017 J 8', 'Jupiter', '0.5'],\n",
       " ['S/2011 J 1', 'Jupiter', '0.5'],\n",
       " ['S/2003 J 9', 'Jupiter', '0.5'],\n",
       " ['S/2003 J 12', 'Jupiter', '0.5'],\n",
       " ['Euporie', 'Jupiter', '1.0'],\n",
       " ['Orthosie', 'Jupiter', '1.0'],\n",
       " ['Sponde', 'Jupiter', '1.0'],\n",
       " ['Kale', 'Jupiter', '1.0'],\n",
       " ['Pasithee', 'Jupiter', '1.0'],\n",
       " ['Mneme', 'Jupiter', '1.0'],\n",
       " ['Thelxinoe', 'Jupiter', '1.0'],\n",
       " ['Kallichore', 'Jupiter', '1.0'],\n",
       " ['Cyllene', 'Jupiter', '1.0'],\n",
       " ['Kore', 'Jupiter', '1.0'],\n",
       " ['Herse', 'Jupiter', '1.0'],\n",
       " ['S/2010 J 1', 'Jupiter', '1.0'],\n",
       " ['S/2003 J 18', 'Jupiter', '1.0'],\n",
       " ['Philophrosyne', 'Jupiter', '1.0'],\n",
       " ['Eupheme', 'Jupiter', '1.0'],\n",
       " ['S/2003 J 19', 'Jupiter', '1.0'],\n",
       " ['S/2017 J 2', 'Jupiter', '1.0'],\n",
       " ['S/2017 J 3', 'Jupiter', '1.0'],\n",
       " ['Pandia', 'Jupiter', '1.0'],\n",
       " ['S/2017 J 5', 'Jupiter', '1.0'],\n",
       " ['S/2017 J 6', 'Jupiter', '1.0'],\n",
       " ['S/2017 J 7', 'Jupiter', '1.0'],\n",
       " ['S/2017 J 9', 'Jupiter', '1.0'],\n",
       " ['Ersa', 'Jupiter', '1.0'],\n",
       " ['S/2003 J 2', 'Jupiter', '1.0'],\n",
       " ['S/2003 J 4', 'Jupiter', '1.0'],\n",
       " ['S/2003 J 10', 'Jupiter', '1.0'],\n",
       " ['S/2003 J 16', 'Jupiter', '1.0'],\n",
       " ['S/2003 J 23', 'Jupiter', '1.0'],\n",
       " ['Anthe', 'Saturn', '1.0'],\n",
       " ['Polydeuces', 'Saturn', '1.25'],\n",
       " ['Aitne', 'Jupiter', '1.5'],\n",
       " ['Eurydome', 'Jupiter', '1.5'],\n",
       " ['Euanthe', 'Jupiter', '1.5'],\n",
       " ['Hegemone', 'Jupiter', '1.5'],\n",
       " ['Arche', 'Jupiter', '1.5'],\n",
       " ['Carpo', 'Jupiter', '1.5'],\n",
       " ['Erinome', 'Jupiter', '1.6'],\n",
       " ['Methone', 'Saturn', '1.6'],\n",
       " ['Chaldene', 'Jupiter', '1.9'],\n",
       " ['Isonoe', 'Jupiter', '1.9'],\n",
       " ['Autonoe', 'Jupiter', '2.0'],\n",
       " ['Thyone', 'Jupiter', '2.0'],\n",
       " ['Hermippe', 'Jupiter', '2.0'],\n",
       " ['Aoede', 'Jupiter', '2.0'],\n",
       " ['Helike', 'Jupiter', '2.0'],\n",
       " ['Eukelade', 'Jupiter', '2.0'],\n",
       " ['Dia', 'Jupiter', '2.0'],\n",
       " ['Eirene', 'Jupiter', '2.0'],\n",
       " ['S/2017 J 1', 'Jupiter', '2.0'],\n",
       " ['Pallene', 'Saturn', '2.0'],\n",
       " ['Fenrir', 'Saturn', '2.0'],\n",
       " ['S/2004 S 17', 'Saturn', '2.0'],\n",
       " ['Harpalyke', 'Jupiter', '2.2'],\n",
       " ['Taygete', 'Jupiter', '2.5'],\n",
       " ['Farbauti', 'Saturn', '2.5'],\n",
       " ['S/2004 S 12', 'Saturn', '2.5'],\n",
       " ['Kalyke', 'Jupiter', '2.6'],\n",
       " ['Iocaste', 'Jupiter', '2.6'],\n",
       " ['Megaclite', 'Jupiter', '2.7'],\n",
       " ['S/2016 J 1', 'Jupiter', '3.0'],\n",
       " ['Aegir', 'Saturn', '3.0'],\n",
       " ['Bebhionn', 'Saturn', '3.0'],\n",
       " ['Bergelmir', 'Saturn', '3.0'],\n",
       " ['Fornjot', 'Saturn', '3.0'],\n",
       " ['Hati', 'Saturn', '3.0'],\n",
       " ['Loge', 'Saturn', '3.0'],\n",
       " ['Skoll', 'Saturn', '3.0'],\n",
       " ['Surtur', 'Saturn', '3.0'],\n",
       " ['Jarnsaxa', 'Saturn', '3.0'],\n",
       " ['Greip', 'Saturn', '3.0'],\n",
       " ['S/2004 S 7', 'Saturn', '3.0'],\n",
       " ['S/2004 S 13', 'Saturn', '3.0'],\n",
       " ['S/2006 S 1', 'Saturn', '3.0'],\n",
       " ['S/2006 S 3', 'Saturn', '3.0'],\n",
       " ['S/2007 S 2', 'Saturn', '3.0'],\n",
       " ['S/2007 S 3', 'Saturn', '3.0'],\n",
       " ['S/2004 S 20', 'Saturn', '3.0'],\n",
       " ['S/2004 S 21', 'Saturn', '3.0'],\n",
       " ['S/2004 S 22', 'Saturn', '3.0'],\n",
       " ['S/2004 S 24', 'Saturn', '3.0'],\n",
       " ['S/2004 S 30', 'Saturn', '3.0'],\n",
       " ['S/2004 S 34', 'Saturn', '3.0'],\n",
       " ['S/2004 S 36', 'Saturn', '3.0'],\n",
       " ['S/2004 S 39', 'Saturn', '3.0'],\n",
       " ['Praxidike', 'Jupiter', '3.4'],\n",
       " ['Suttungr', 'Saturn', '3.5'],\n",
       " ['Mundilfari', 'Saturn', '3.5'],\n",
       " ['Thrymr', 'Saturn', '3.5'],\n",
       " ['Narvi', 'Saturn', '3.5'],\n",
       " ['Bestla', 'Saturn', '3.5'],\n",
       " ['Kari', 'Saturn', '3.5'],\n",
       " ['Tarqeq', 'Saturn', '3.5'],\n",
       " ['Daphnis', 'Saturn', '3.8'],\n",
       " ['Themisto', 'Jupiter', '4.0'],\n",
       " ['Skathi', 'Saturn', '4.0'],\n",
       " ['Hyrrokkin', 'Saturn', '4.0'],\n",
       " ['S/2004 S 23', 'Saturn', '4.0'],\n",
       " ['S/2004 S 25', 'Saturn', '4.0'],\n",
       " ['S/2004 S 26', 'Saturn', '4.0'],\n",
       " ['S/2004 S 28', 'Saturn', '4.0'],\n",
       " ['S/2004 S 29', 'Saturn', '4.0'],\n",
       " ['S/2004 S 31', 'Saturn', '4.0'],\n",
       " ['S/2004 S 32', 'Saturn', '4.0'],\n",
       " ['S/2004 S 33', 'Saturn', '4.0'],\n",
       " ['S/2004 S 37', 'Saturn', '4.0'],\n",
       " ['S/2004 S 38', 'Saturn', '4.0'],\n",
       " ['Callirrhoe', 'Jupiter', '4.3'],\n",
       " ['Erriapus', 'Saturn', '5.0'],\n",
       " ['Margaret', 'Uranus', '5.5'],\n",
       " ['Ijiraq', 'Saturn', '6.0'],\n",
       " ['S/2004 S 27', 'Saturn', '6.0'],\n",
       " ['S/2004 S 35', 'Saturn', '6.0'],\n",
       " ['Francisco', 'Uranus', '6.0'],\n",
       " ['Ferdinand', 'Uranus', '6.0'],\n",
       " ['Mab', 'Uranus', '6.0'],\n",
       " ['Deimos', 'Mars', '6.2'],\n",
       " ['Tarvos', 'Saturn', '7.5'],\n",
       " ['Kiviuq', 'Saturn', '8.0'],\n",
       " ['Adrastea', 'Jupiter', '8.2'],\n",
       " ['Ymir', 'Saturn', '9.0'],\n",
       " ['Trinculo', 'Uranus', '9.0'],\n",
       " ['Cupid', 'Uranus', '9.0'],\n",
       " ['Calypso', 'Saturn', '9.5'],\n",
       " ['Leda', 'Jupiter', '10.0'],\n",
       " ['Stephano', 'Uranus', '10.0'],\n",
       " ['Styx', 'Pluto', '10.0'],\n",
       " ['Paaliaq', 'Saturn', '11.0'],\n",
       " ['Phobos', 'Mars', '11.1'],\n",
       " ['Telesto', 'Saturn', '12.0'],\n",
       " ['Pan', 'Saturn', '12.8'],\n",
       " ['Ananke', 'Jupiter', '14.0'],\n",
       " ['Kerberos', 'Pluto', '14.0'],\n",
       " ['Perdita', 'Uranus', '15.0'],\n",
       " ['Atlas', 'Saturn', '15.3'],\n",
       " ['Helene', 'Saturn', '16.0'],\n",
       " ['Albiorix', 'Saturn', '16.0'],\n",
       " ['Hippocamp', 'Neptune', '17.4'],\n",
       " ['Lysithea', 'Jupiter', '18.0'],\n",
       " ['Sinope', 'Jupiter', '19.0'],\n",
       " ['Siarnaq', 'Saturn', '20.0'],\n",
       " ['Psamathe', 'Neptune', '20.0'],\n",
       " ['Cordelia', 'Uranus', '20.1'],\n",
       " ['Caliban', 'Uranus', '21.0'],\n",
       " ['Laomedeia', 'Neptune', '21.0'],\n",
       " ['Ophelia', 'Uranus', '21.4'],\n",
       " ['Metis', 'Jupiter', '21.5'],\n",
       " ['Sao', 'Neptune', '22.0'],\n",
       " ['Carme', 'Jupiter', '23.0'],\n",
       " ['Nix', 'Pluto', '23.0'],\n",
       " ['Setebos', 'Uranus', '24.0'],\n",
       " ['Prospero', 'Uranus', '25.0'],\n",
       " ['Bianca', 'Uranus', '25.7'],\n",
       " ['Pasiphae', 'Jupiter', '30.0'],\n",
       " ['Neso', 'Neptune', '30.0'],\n",
       " ['Hydra', 'Pluto', '30.5'],\n",
       " ['Halimede', 'Neptune', '31.0'],\n",
       " ['Desdemona', 'Uranus', '32.0'],\n",
       " ['Naiad', 'Neptune', '33.0'],\n",
       " ['Rosalind', 'Uranus', '36.0'],\n",
       " ['Cressida', 'Uranus', '39.8'],\n",
       " ['Belinda', 'Uranus', '40.3'],\n",
       " ['Pandora', 'Saturn', '40.6'],\n",
       " ['Thalassa', 'Neptune', '41.0'],\n",
       " ['Elara', 'Jupiter', '43.0'],\n",
       " ['Prometheus', 'Saturn', '46.8'],\n",
       " ['Juliet', 'Uranus', '46.8'],\n",
       " ['Thebe', 'Jupiter', '49.3'],\n",
       " ['Epimetheus', 'Saturn', '58.3'],\n",
       " ['Himalia', 'Jupiter', '67.0'],\n",
       " ['Portia', 'Uranus', '67.6'],\n",
       " ['Despina', 'Neptune', '75.0'],\n",
       " ['Sycorax', 'Uranus', '78.5'],\n",
       " ['Puck', 'Uranus', '81.0'],\n",
       " ['Amalthea', 'Jupiter', '83.5'],\n",
       " ['Galatea', 'Neptune', '88.0'],\n",
       " ['Janus', 'Saturn', '90.4'],\n",
       " ['Larissa', 'Neptune', '97.0'],\n",
       " ['Phoebe', 'Saturn', '106.6'],\n",
       " ['Hyperion', 'Saturn', '138.6'],\n",
       " ['Nereid', 'Neptune', '178.5'],\n",
       " ['Mimas', 'Saturn', '198.2'],\n",
       " ['Proteus', 'Neptune', '210.0'],\n",
       " ['Miranda', 'Uranus', '235.8'],\n",
       " ['Enceladus', 'Saturn', '252.3'],\n",
       " ['Tethys', 'Saturn', '536.3'],\n",
       " ['Dione', 'Saturn', '562.5'],\n",
       " ['Ariel', 'Uranus', '578.9'],\n",
       " ['Umbriel', 'Uranus', '584.7'],\n",
       " ['Charon', 'Pluto', '606.0'],\n",
       " ['Iapetus', 'Saturn', '734.5'],\n",
       " ['Oberon', 'Uranus', '761.4'],\n",
       " ['Rhea', 'Saturn', '764.5'],\n",
       " ['Titania', 'Uranus', '788.9'],\n",
       " ['Triton', 'Neptune', '1353.4'],\n",
       " ['Europa', 'Jupiter', '1560.7'],\n",
       " ['Moon', 'Earth', '1737.1'],\n",
       " ['Io', 'Jupiter', '1818.1'],\n",
       " ['Callisto', 'Jupiter', '2408.4'],\n",
       " ['Titan', 'Saturn', '2575.5'],\n",
       " ['Ganymede', 'Jupiter', '2634.1']]"
      ]
     },
     "execution_count": 49,
     "metadata": {},
     "output_type": "execute_result"
    }
   ],
   "source": [
    "data_moons"
   ]
  },
  {
   "cell_type": "code",
   "execution_count": null,
   "metadata": {},
   "outputs": [],
   "source": []
  },
  {
   "cell_type": "code",
   "execution_count": 44,
   "metadata": {},
   "outputs": [],
   "source": [
    "df = pd.DataFrame(data_moons, columns=[\"Moon\",\"Planet\",\"Diameter\"])\n"
   ]
  },
  {
   "cell_type": "code",
   "execution_count": 45,
   "metadata": {},
   "outputs": [],
   "source": [
    "df.to_csv('jajja.csv', index=False)"
   ]
  },
  {
   "cell_type": "code",
   "execution_count": 46,
   "metadata": {},
   "outputs": [
    {
     "data": {
      "text/html": [
       "<div>\n",
       "<style scoped>\n",
       "    .dataframe tbody tr th:only-of-type {\n",
       "        vertical-align: middle;\n",
       "    }\n",
       "\n",
       "    .dataframe tbody tr th {\n",
       "        vertical-align: top;\n",
       "    }\n",
       "\n",
       "    .dataframe thead th {\n",
       "        text-align: right;\n",
       "    }\n",
       "</style>\n",
       "<table border=\"1\" class=\"dataframe\">\n",
       "  <thead>\n",
       "    <tr style=\"text-align: right;\">\n",
       "      <th></th>\n",
       "      <th>Moon</th>\n",
       "      <th>Planet</th>\n",
       "      <th>Diameter</th>\n",
       "    </tr>\n",
       "  </thead>\n",
       "  <tbody>\n",
       "    <tr>\n",
       "      <th>0</th>\n",
       "      <td>S/2009 S 1</td>\n",
       "      <td>Saturn</td>\n",
       "      <td>0.15</td>\n",
       "    </tr>\n",
       "    <tr>\n",
       "      <th>1</th>\n",
       "      <td>Aegaeon</td>\n",
       "      <td>Saturn</td>\n",
       "      <td>0.33</td>\n",
       "    </tr>\n",
       "    <tr>\n",
       "      <th>2</th>\n",
       "      <td>S/2010 J 2</td>\n",
       "      <td>Jupiter</td>\n",
       "      <td>0.5</td>\n",
       "    </tr>\n",
       "    <tr>\n",
       "      <th>3</th>\n",
       "      <td>S/2011 J 2</td>\n",
       "      <td>Jupiter</td>\n",
       "      <td>0.5</td>\n",
       "    </tr>\n",
       "    <tr>\n",
       "      <th>4</th>\n",
       "      <td>Valetudo</td>\n",
       "      <td>Jupiter</td>\n",
       "      <td>0.5</td>\n",
       "    </tr>\n",
       "  </tbody>\n",
       "</table>\n",
       "</div>"
      ],
      "text/plain": [
       "         Moon   Planet Diameter\n",
       "0  S/2009 S 1   Saturn     0.15\n",
       "1     Aegaeon   Saturn     0.33\n",
       "2  S/2010 J 2  Jupiter      0.5\n",
       "3  S/2011 J 2  Jupiter      0.5\n",
       "4    Valetudo  Jupiter      0.5"
      ]
     },
     "execution_count": 46,
     "metadata": {},
     "output_type": "execute_result"
    }
   ],
   "source": [
    "df.head()"
   ]
  },
  {
   "cell_type": "code",
   "execution_count": 47,
   "metadata": {},
   "outputs": [
    {
     "data": {
      "text/html": [
       "<div>\n",
       "<style scoped>\n",
       "    .dataframe tbody tr th:only-of-type {\n",
       "        vertical-align: middle;\n",
       "    }\n",
       "\n",
       "    .dataframe tbody tr th {\n",
       "        vertical-align: top;\n",
       "    }\n",
       "\n",
       "    .dataframe thead th {\n",
       "        text-align: right;\n",
       "    }\n",
       "</style>\n",
       "<table border=\"1\" class=\"dataframe\">\n",
       "  <thead>\n",
       "    <tr style=\"text-align: right;\">\n",
       "      <th></th>\n",
       "      <th>Moon</th>\n",
       "      <th>Planet</th>\n",
       "      <th>Diameter</th>\n",
       "    </tr>\n",
       "  </thead>\n",
       "  <tbody>\n",
       "    <tr>\n",
       "      <th>205</th>\n",
       "      <td>Moon</td>\n",
       "      <td>Earth</td>\n",
       "      <td>1737.1</td>\n",
       "    </tr>\n",
       "    <tr>\n",
       "      <th>206</th>\n",
       "      <td>Io</td>\n",
       "      <td>Jupiter</td>\n",
       "      <td>1818.1</td>\n",
       "    </tr>\n",
       "    <tr>\n",
       "      <th>207</th>\n",
       "      <td>Callisto</td>\n",
       "      <td>Jupiter</td>\n",
       "      <td>2408.4</td>\n",
       "    </tr>\n",
       "    <tr>\n",
       "      <th>208</th>\n",
       "      <td>Titan</td>\n",
       "      <td>Saturn</td>\n",
       "      <td>2575.5</td>\n",
       "    </tr>\n",
       "    <tr>\n",
       "      <th>209</th>\n",
       "      <td>Ganymede</td>\n",
       "      <td>Jupiter</td>\n",
       "      <td>2634.1</td>\n",
       "    </tr>\n",
       "  </tbody>\n",
       "</table>\n",
       "</div>"
      ],
      "text/plain": [
       "         Moon   Planet Diameter\n",
       "205      Moon    Earth   1737.1\n",
       "206        Io  Jupiter   1818.1\n",
       "207  Callisto  Jupiter   2408.4\n",
       "208     Titan   Saturn   2575.5\n",
       "209  Ganymede  Jupiter   2634.1"
      ]
     },
     "execution_count": 47,
     "metadata": {},
     "output_type": "execute_result"
    }
   ],
   "source": [
    "df.tail()"
   ]
  },
  {
   "cell_type": "code",
   "execution_count": 48,
   "metadata": {},
   "outputs": [
    {
     "data": {
      "text/html": [
       "<div>\n",
       "<style scoped>\n",
       "    .dataframe tbody tr th:only-of-type {\n",
       "        vertical-align: middle;\n",
       "    }\n",
       "\n",
       "    .dataframe tbody tr th {\n",
       "        vertical-align: top;\n",
       "    }\n",
       "\n",
       "    .dataframe thead th {\n",
       "        text-align: right;\n",
       "    }\n",
       "</style>\n",
       "<table border=\"1\" class=\"dataframe\">\n",
       "  <thead>\n",
       "    <tr style=\"text-align: right;\">\n",
       "      <th></th>\n",
       "      <th>Moon</th>\n",
       "      <th>Planet</th>\n",
       "      <th>Diameter</th>\n",
       "    </tr>\n",
       "  </thead>\n",
       "  <tbody>\n",
       "    <tr>\n",
       "      <th>0</th>\n",
       "      <td>S/2009 S 1</td>\n",
       "      <td>Saturn</td>\n",
       "      <td>0.15</td>\n",
       "    </tr>\n",
       "    <tr>\n",
       "      <th>1</th>\n",
       "      <td>Aegaeon</td>\n",
       "      <td>Saturn</td>\n",
       "      <td>0.33</td>\n",
       "    </tr>\n",
       "    <tr>\n",
       "      <th>2</th>\n",
       "      <td>S/2010 J 2</td>\n",
       "      <td>Jupiter</td>\n",
       "      <td>0.5</td>\n",
       "    </tr>\n",
       "    <tr>\n",
       "      <th>3</th>\n",
       "      <td>S/2011 J 2</td>\n",
       "      <td>Jupiter</td>\n",
       "      <td>0.5</td>\n",
       "    </tr>\n",
       "    <tr>\n",
       "      <th>4</th>\n",
       "      <td>Valetudo</td>\n",
       "      <td>Jupiter</td>\n",
       "      <td>0.5</td>\n",
       "    </tr>\n",
       "    <tr>\n",
       "      <th>...</th>\n",
       "      <td>...</td>\n",
       "      <td>...</td>\n",
       "      <td>...</td>\n",
       "    </tr>\n",
       "    <tr>\n",
       "      <th>205</th>\n",
       "      <td>Moon</td>\n",
       "      <td>Earth</td>\n",
       "      <td>1737.1</td>\n",
       "    </tr>\n",
       "    <tr>\n",
       "      <th>206</th>\n",
       "      <td>Io</td>\n",
       "      <td>Jupiter</td>\n",
       "      <td>1818.1</td>\n",
       "    </tr>\n",
       "    <tr>\n",
       "      <th>207</th>\n",
       "      <td>Callisto</td>\n",
       "      <td>Jupiter</td>\n",
       "      <td>2408.4</td>\n",
       "    </tr>\n",
       "    <tr>\n",
       "      <th>208</th>\n",
       "      <td>Titan</td>\n",
       "      <td>Saturn</td>\n",
       "      <td>2575.5</td>\n",
       "    </tr>\n",
       "    <tr>\n",
       "      <th>209</th>\n",
       "      <td>Ganymede</td>\n",
       "      <td>Jupiter</td>\n",
       "      <td>2634.1</td>\n",
       "    </tr>\n",
       "  </tbody>\n",
       "</table>\n",
       "<p>210 rows × 3 columns</p>\n",
       "</div>"
      ],
      "text/plain": [
       "           Moon   Planet Diameter\n",
       "0    S/2009 S 1   Saturn     0.15\n",
       "1       Aegaeon   Saturn     0.33\n",
       "2    S/2010 J 2  Jupiter      0.5\n",
       "3    S/2011 J 2  Jupiter      0.5\n",
       "4      Valetudo  Jupiter      0.5\n",
       "..          ...      ...      ...\n",
       "205        Moon    Earth   1737.1\n",
       "206          Io  Jupiter   1818.1\n",
       "207    Callisto  Jupiter   2408.4\n",
       "208       Titan   Saturn   2575.5\n",
       "209    Ganymede  Jupiter   2634.1\n",
       "\n",
       "[210 rows x 3 columns]"
      ]
     },
     "execution_count": 48,
     "metadata": {},
     "output_type": "execute_result"
    }
   ],
   "source": [
    "df"
   ]
  },
  {
   "cell_type": "code",
   "execution_count": null,
   "metadata": {},
   "outputs": [],
   "source": []
  }
 ],
 "metadata": {
  "kernelspec": {
   "display_name": "Python 3",
   "language": "python",
   "name": "python3"
  },
  "language_info": {
   "codemirror_mode": {
    "name": "ipython",
    "version": 3
   },
   "file_extension": ".py",
   "mimetype": "text/x-python",
   "name": "python",
   "nbconvert_exporter": "python",
   "pygments_lexer": "ipython3",
   "version": "3.7.6"
  }
 },
 "nbformat": 4,
 "nbformat_minor": 4
}
